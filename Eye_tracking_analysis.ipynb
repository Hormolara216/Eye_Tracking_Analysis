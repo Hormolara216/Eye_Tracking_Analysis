{
  "nbformat": 4,
  "nbformat_minor": 0,
  "metadata": {
    "colab": {
      "provenance": []
    },
    "kernelspec": {
      "name": "python3",
      "display_name": "Python 3"
    },
    "language_info": {
      "name": "python"
    }
  },
  "cells": [
    {
      "cell_type": "code",
      "execution_count": null,
      "metadata": {
        "id": "hOxA6AckRzLl"
      },
      "outputs": [],
      "source": [
        "import numpy as np\n",
        "import pandas as pd\n"
      ]
    },
    {
      "cell_type": "code",
      "source": [
        "data=pd.read_csv('/content/ET_pupil_clip_2.csv')"
      ],
      "metadata": {
        "id": "xoY1sLfgR8ad"
      },
      "execution_count": null,
      "outputs": []
    },
    {
      "cell_type": "code",
      "source": [
        "data.head()"
      ],
      "metadata": {
        "colab": {
          "base_uri": "https://localhost:8080/",
          "height": 206
        },
        "id": "873dvYDxSDa4",
        "outputId": "4510f8f5-b64d-4cce-ee0f-2c7d6ead4e9d"
      },
      "execution_count": null,
      "outputs": [
        {
          "output_type": "execute_result",
          "data": {
            "text/plain": [
              "     time_s   diameter  normalized_diameter\n",
              "0  0.000000  92.562576            -0.352706\n",
              "1  0.030528  92.486251            -0.429032\n",
              "2  0.061056  92.433100            -0.482183\n",
              "3  0.091584  92.433100            -0.482183\n",
              "4  0.122112  92.433100            -0.482183"
            ],
            "text/html": [
              "\n",
              "  <div id=\"df-bf9e3536-77cc-4463-b636-466d9b2575d2\">\n",
              "    <div class=\"colab-df-container\">\n",
              "      <div>\n",
              "<style scoped>\n",
              "    .dataframe tbody tr th:only-of-type {\n",
              "        vertical-align: middle;\n",
              "    }\n",
              "\n",
              "    .dataframe tbody tr th {\n",
              "        vertical-align: top;\n",
              "    }\n",
              "\n",
              "    .dataframe thead th {\n",
              "        text-align: right;\n",
              "    }\n",
              "</style>\n",
              "<table border=\"1\" class=\"dataframe\">\n",
              "  <thead>\n",
              "    <tr style=\"text-align: right;\">\n",
              "      <th></th>\n",
              "      <th>time_s</th>\n",
              "      <th>diameter</th>\n",
              "      <th>normalized_diameter</th>\n",
              "    </tr>\n",
              "  </thead>\n",
              "  <tbody>\n",
              "    <tr>\n",
              "      <th>0</th>\n",
              "      <td>0.000000</td>\n",
              "      <td>92.562576</td>\n",
              "      <td>-0.352706</td>\n",
              "    </tr>\n",
              "    <tr>\n",
              "      <th>1</th>\n",
              "      <td>0.030528</td>\n",
              "      <td>92.486251</td>\n",
              "      <td>-0.429032</td>\n",
              "    </tr>\n",
              "    <tr>\n",
              "      <th>2</th>\n",
              "      <td>0.061056</td>\n",
              "      <td>92.433100</td>\n",
              "      <td>-0.482183</td>\n",
              "    </tr>\n",
              "    <tr>\n",
              "      <th>3</th>\n",
              "      <td>0.091584</td>\n",
              "      <td>92.433100</td>\n",
              "      <td>-0.482183</td>\n",
              "    </tr>\n",
              "    <tr>\n",
              "      <th>4</th>\n",
              "      <td>0.122112</td>\n",
              "      <td>92.433100</td>\n",
              "      <td>-0.482183</td>\n",
              "    </tr>\n",
              "  </tbody>\n",
              "</table>\n",
              "</div>\n",
              "      <button class=\"colab-df-convert\" onclick=\"convertToInteractive('df-bf9e3536-77cc-4463-b636-466d9b2575d2')\"\n",
              "              title=\"Convert this dataframe to an interactive table.\"\n",
              "              style=\"display:none;\">\n",
              "        \n",
              "  <svg xmlns=\"http://www.w3.org/2000/svg\" height=\"24px\"viewBox=\"0 0 24 24\"\n",
              "       width=\"24px\">\n",
              "    <path d=\"M0 0h24v24H0V0z\" fill=\"none\"/>\n",
              "    <path d=\"M18.56 5.44l.94 2.06.94-2.06 2.06-.94-2.06-.94-.94-2.06-.94 2.06-2.06.94zm-11 1L8.5 8.5l.94-2.06 2.06-.94-2.06-.94L8.5 2.5l-.94 2.06-2.06.94zm10 10l.94 2.06.94-2.06 2.06-.94-2.06-.94-.94-2.06-.94 2.06-2.06.94z\"/><path d=\"M17.41 7.96l-1.37-1.37c-.4-.4-.92-.59-1.43-.59-.52 0-1.04.2-1.43.59L10.3 9.45l-7.72 7.72c-.78.78-.78 2.05 0 2.83L4 21.41c.39.39.9.59 1.41.59.51 0 1.02-.2 1.41-.59l7.78-7.78 2.81-2.81c.8-.78.8-2.07 0-2.86zM5.41 20L4 18.59l7.72-7.72 1.47 1.35L5.41 20z\"/>\n",
              "  </svg>\n",
              "      </button>\n",
              "      \n",
              "  <style>\n",
              "    .colab-df-container {\n",
              "      display:flex;\n",
              "      flex-wrap:wrap;\n",
              "      gap: 12px;\n",
              "    }\n",
              "\n",
              "    .colab-df-convert {\n",
              "      background-color: #E8F0FE;\n",
              "      border: none;\n",
              "      border-radius: 50%;\n",
              "      cursor: pointer;\n",
              "      display: none;\n",
              "      fill: #1967D2;\n",
              "      height: 32px;\n",
              "      padding: 0 0 0 0;\n",
              "      width: 32px;\n",
              "    }\n",
              "\n",
              "    .colab-df-convert:hover {\n",
              "      background-color: #E2EBFA;\n",
              "      box-shadow: 0px 1px 2px rgba(60, 64, 67, 0.3), 0px 1px 3px 1px rgba(60, 64, 67, 0.15);\n",
              "      fill: #174EA6;\n",
              "    }\n",
              "\n",
              "    [theme=dark] .colab-df-convert {\n",
              "      background-color: #3B4455;\n",
              "      fill: #D2E3FC;\n",
              "    }\n",
              "\n",
              "    [theme=dark] .colab-df-convert:hover {\n",
              "      background-color: #434B5C;\n",
              "      box-shadow: 0px 1px 3px 1px rgba(0, 0, 0, 0.15);\n",
              "      filter: drop-shadow(0px 1px 2px rgba(0, 0, 0, 0.3));\n",
              "      fill: #FFFFFF;\n",
              "    }\n",
              "  </style>\n",
              "\n",
              "      <script>\n",
              "        const buttonEl =\n",
              "          document.querySelector('#df-bf9e3536-77cc-4463-b636-466d9b2575d2 button.colab-df-convert');\n",
              "        buttonEl.style.display =\n",
              "          google.colab.kernel.accessAllowed ? 'block' : 'none';\n",
              "\n",
              "        async function convertToInteractive(key) {\n",
              "          const element = document.querySelector('#df-bf9e3536-77cc-4463-b636-466d9b2575d2');\n",
              "          const dataTable =\n",
              "            await google.colab.kernel.invokeFunction('convertToInteractive',\n",
              "                                                     [key], {});\n",
              "          if (!dataTable) return;\n",
              "\n",
              "          const docLinkHtml = 'Like what you see? Visit the ' +\n",
              "            '<a target=\"_blank\" href=https://colab.research.google.com/notebooks/data_table.ipynb>data table notebook</a>'\n",
              "            + ' to learn more about interactive tables.';\n",
              "          element.innerHTML = '';\n",
              "          dataTable['output_type'] = 'display_data';\n",
              "          await google.colab.output.renderOutput(dataTable, element);\n",
              "          const docLink = document.createElement('div');\n",
              "          docLink.innerHTML = docLinkHtml;\n",
              "          element.appendChild(docLink);\n",
              "        }\n",
              "      </script>\n",
              "    </div>\n",
              "  </div>\n",
              "  "
            ]
          },
          "metadata": {},
          "execution_count": 28
        }
      ]
    },
    {
      "cell_type": "code",
      "source": [
        "average=data[data[\"time_s\"]<1]['diameter'].mean()"
      ],
      "metadata": {
        "id": "odULf0XKTZ6q"
      },
      "execution_count": null,
      "outputs": []
    },
    {
      "cell_type": "markdown",
      "source": [
        "**2.** **New normalised vector was created**"
      ],
      "metadata": {
        "id": "Ajn8w7JEjG3x"
      }
    },
    {
      "cell_type": "code",
      "source": [
        "data['normalized_diameter']=data['diameter']-average"
      ],
      "metadata": {
        "colab": {
          "base_uri": "https://localhost:8080/"
        },
        "id": "1KEHgnzj5dRR",
        "outputId": "d171641c-f5b2-44ae-fd98-a7a7f433c122"
      },
      "execution_count": null,
      "outputs": [
        {
          "output_type": "execute_result",
          "data": {
            "text/plain": [
              "0      -0.352706\n",
              "1      -0.429032\n",
              "2      -0.482183\n",
              "3      -0.482183\n",
              "4      -0.482183\n",
              "          ...   \n",
              "1852    9.007161\n",
              "1853    9.090758\n",
              "1854    9.198916\n",
              "1855    9.319228\n",
              "1856    9.441473\n",
              "Name: normalized_diameter, Length: 1857, dtype: float64"
            ]
          },
          "metadata": {},
          "execution_count": 10
        }
      ]
    },
    {
      "cell_type": "code",
      "source": [
        "print(data)"
      ],
      "metadata": {
        "colab": {
          "base_uri": "https://localhost:8080/"
        },
        "id": "2bt4Dit4azJZ",
        "outputId": "9f50355a-a0ec-4403-b48b-031adf05beb6"
      },
      "execution_count": null,
      "outputs": [
        {
          "output_type": "stream",
          "name": "stdout",
          "text": [
            "         time_s    diameter  normalized_diameter\n",
            "0      0.000000   92.562576            -0.352706\n",
            "1      0.030528   92.486251            -0.429032\n",
            "2      0.061056   92.433100            -0.482183\n",
            "3      0.091584   92.433100            -0.482183\n",
            "4      0.122112   92.433100            -0.482183\n",
            "...         ...         ...                  ...\n",
            "1852  56.537969  101.922443             9.007161\n",
            "1853  56.568497  102.006041             9.090758\n",
            "1854  56.599025  102.114198             9.198916\n",
            "1855  56.629553  102.234511             9.319228\n",
            "1856  56.660081  102.356756             9.441473\n",
            "\n",
            "[1857 rows x 3 columns]\n"
          ]
        }
      ]
    },
    {
      "cell_type": "code",
      "source": [
        "Diameter=pd.DataFrame(data['diameter'])\n",
        "Time=pd.DataFrame(data['time_s'])"
      ],
      "metadata": {
        "id": "F1c_UI9SidpE"
      },
      "execution_count": 29,
      "outputs": []
    },
    {
      "cell_type": "code",
      "source": [
        "import matplotlib.pyplot as plt"
      ],
      "metadata": {
        "id": "vrp9FtjYbmD4"
      },
      "execution_count": null,
      "outputs": []
    },
    {
      "cell_type": "markdown",
      "source": [
        "**3.Visualization of the normalized and non-normalized data**"
      ],
      "metadata": {
        "id": "_EbGmkO4jUdj"
      }
    },
    {
      "cell_type": "code",
      "source": [
        "plt.scatter(Time,data['normalized_diameter'])\n",
        "plt.title(\"Normalized\")\n",
        "plt.xlabel(\"Time in (seconds)\")\n",
        "plt.ylabel(\"Normalized Pupil size)\")\n",
        "plt.show()"
      ],
      "metadata": {
        "colab": {
          "base_uri": "https://localhost:8080/",
          "height": 295
        },
        "id": "gFGqcgzlb-St",
        "outputId": "18d14ff2-a26d-4cc4-c924-b5efacc374c9"
      },
      "execution_count": null,
      "outputs": [
        {
          "output_type": "display_data",
          "data": {
            "text/plain": [
              "<Figure size 432x288 with 1 Axes>"
            ],
            "image/png": "[encoded data removed]"
          },
          "metadata": {
            "needs_background": "light"
          }
        }
      ]
    },
    {
      "cell_type": "code",
      "source": [
        "plt.scatter(Time,Diameter)\n",
        "plt.title(\"Non-normalized\")\n",
        "plt.xlabel(\"Time in (seconds)\")\n",
        "plt.ylabel(\"Non-normalized Pupil size)\")\n",
        "plt.show()"
      ],
      "metadata": {
        "colab": {
          "base_uri": "https://localhost:8080/",
          "height": 295
        },
        "id": "kb5M8tzZ053t",
        "outputId": "5b3207ad-c760-4769-f393-6128712238d7"
      },
      "execution_count": null,
      "outputs": [
        {
          "output_type": "display_data",
          "data": {
            "text/plain": [
              "<Figure size 432x288 with 1 Axes>"
            ],
            "image/png": "[encoded data removed]"
          },
          "metadata": {
            "needs_background": "light"
          }
        }
      ]
    },
    {
      "cell_type": "markdown",
      "source": [
        "**4. Calculation and report following from 5 second intervals after the baseline period**"
      ],
      "metadata": {
        "id": "hdS-ghkVj-IR"
      }
    },
    {
      "cell_type": "code",
      "source": [
        "def dia_five_range(data):\n",
        "    # end of time\n",
        "    end = 6.0\n",
        "\n",
        "    # ranges\n",
        "    ranges = np.arange(1, data['time_s'].max(), 5)\n",
        "\n",
        "    # empty list to hold averages\n",
        "    avgs_list = []\n",
        "\n",
        "    # Looping function\n",
        "    for index in ranges:\n",
        "        slice = data[(data['time_s'] > index) & (data['time_s'] < end)]\n",
        "        slice_diam_avg = slice['normalized_diameter'].mean()\n",
        "        avgs_list.append(slice_diam_avg)\n",
        "        end += 5.0\n",
        "    \n",
        "    return avgs_list"
      ],
      "metadata": {
        "id": "NSI-phwGjaNN"
      },
      "execution_count": null,
      "outputs": []
    },
    {
      "cell_type": "code",
      "source": [
        "diameter_averages = dia_five_range(data)\n",
        "diameter_averages\n"
      ],
      "metadata": {
        "colab": {
          "base_uri": "https://localhost:8080/"
        },
        "id": "hulluWcOl9w2",
        "outputId": "7663d43b-10ab-48f2-953d-e4a0d23c6098"
      },
      "execution_count": null,
      "outputs": [
        {
          "output_type": "execute_result",
          "data": {
            "text/plain": [
              "[-1.7474655010846438,\n",
              " -2.817776431206595,\n",
              " -1.5358377766334244,\n",
              " -4.979216339421843,\n",
              " 2.396895602878771,\n",
              " 2.371612813793405,\n",
              " 5.902894389769014,\n",
              " 5.137403438000722,\n",
              " 7.237224641130304,\n",
              " 8.934324841598283,\n",
              " 6.304148219647063,\n",
              " 9.468170220606044]"
            ]
          },
          "metadata": {},
          "execution_count": 20
        }
      ]
    },
    {
      "cell_type": "code",
      "source": [
        "time_interval= np.arange(1, data['time_s'].max(), 5)"
      ],
      "metadata": {
        "id": "7ClaSq62tKKy"
      },
      "execution_count": null,
      "outputs": []
    },
    {
      "cell_type": "code",
      "source": [
        "def dia_five_range(data):\n",
        "    # end of time\n",
        "    end = 6.0\n",
        "\n",
        "    # ranges\n",
        "    ranges = np.arange(1, data['time_s'].max(), 5)\n",
        "\n",
        "    # empty list to hold averages\n",
        "    variance = []\n",
        "\n",
        "    # Looping function\n",
        "    for index in ranges:\n",
        "        slice = data[(data['time_s'] > index) & (data['time_s'] < end)]\n",
        "        slice_diam_variance = slice['normalized_diameter'].var()\n",
        "        variance.append(slice_diam_variance)\n",
        "        end += 5.0\n",
        "    \n",
        "    return variance"
      ],
      "metadata": {
        "id": "CMkq-syYsfcc"
      },
      "execution_count": null,
      "outputs": []
    },
    {
      "cell_type": "code",
      "source": [
        "diameter_variance = dia_five_range(data)\n",
        "diameter_variance"
      ],
      "metadata": {
        "colab": {
          "base_uri": "https://localhost:8080/"
        },
        "id": "fFb6Xv_4fXeB",
        "outputId": "1a77d2e2-02f6-4447-c09c-67a70835070c"
      },
      "execution_count": null,
      "outputs": [
        {
          "output_type": "execute_result",
          "data": {
            "text/plain": [
              "[4.030044634541476,\n",
              " 2.6504949194863854,\n",
              " 9.02474348347106,\n",
              " 21.424362600340462,\n",
              " 6.0584531704178355,\n",
              " 11.335274655648842,\n",
              " 1.5138918644027883,\n",
              " 5.924468989556536,\n",
              " 20.377842498091937,\n",
              " 5.711179426262708,\n",
              " 2.409172966492748,\n",
              " 0.30934564258007624]"
            ]
          },
          "metadata": {},
          "execution_count": 26
        }
      ]
    },
    {
      "cell_type": "markdown",
      "source": [
        "**5. Bar chart visualization of the result**"
      ],
      "metadata": {
        "id": "_cNxCPE7kk_m"
      }
    },
    {
      "cell_type": "code",
      "source": [
        "#Average pupil size\n",
        "plt.bar(time_interval,diameter_averages,width=2)\n",
        " \n",
        "plt.xlabel(\"Time in seconds\")\n",
        "plt.ylabel(\"Diameter averages\")\n",
        "plt.title(\"Average normalized pupil data\")\n",
        "plt.show()"
      ],
      "metadata": {
        "colab": {
          "base_uri": "https://localhost:8080/",
          "height": 295
        },
        "id": "60N0HbMmkh53",
        "outputId": "64d10f51-4967-4098-8b65-27d1dbd13963"
      },
      "execution_count": 30,
      "outputs": [
        {
          "output_type": "display_data",
          "data": {
            "text/plain": [
              "<Figure size 432x288 with 1 Axes>"
            ],
            "image/png": "[encoded data removed]"
          },
          "metadata": {
            "needs_background": "light"
          }
        }
      ]
    },
    {
      "cell_type": "code",
      "source": [
        "#Standard deviation of the pupil size\n",
        "plt.bar(time_interval,diameter_variance,width=2)\n",
        "plt.xlabel(\"Time in seconds\")\n",
        "plt.ylabel(\"Diameter variance\")\n",
        "plt.title(\"Variance of normalized pupil data\")\n",
        "plt.show()"
      ],
      "metadata": {
        "colab": {
          "base_uri": "https://localhost:8080/",
          "height": 295
        },
        "id": "4a5TqvjlgI1W",
        "outputId": "4d9d6936-7fd5-4981-a833-fb59a21dc627"
      },
      "execution_count": null,
      "outputs": [
        {
          "output_type": "display_data",
          "data": {
            "text/plain": [
              "<Figure size 432x288 with 1 Axes>"
            ],
            "image/png": "[encoded data removed]"
          },
          "metadata": {
            "needs_background": "light"
          }
        }
      ]
    }
  ]
}